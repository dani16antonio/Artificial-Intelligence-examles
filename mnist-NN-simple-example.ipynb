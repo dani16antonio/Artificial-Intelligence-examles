{
  "nbformat": 4,
  "nbformat_minor": 0,
  "metadata": {
    "colab": {
      "name": "Untitled0.ipynb",
      "provenance": [],
      "include_colab_link": true
    },
    "kernelspec": {
      "name": "python3",
      "display_name": "Python 3"
    }
  },
  "cells": [
    {
      "cell_type": "markdown",
      "metadata": {
        "id": "view-in-github",
        "colab_type": "text"
      },
      "source": [
        "<a href=\"https://colab.research.google.com/github/dani16antonio/Artificial-Intelligence-examles/blob/master/mnist-NN-simple-example.ipynb\" target=\"_parent\"><img src=\"https://colab.research.google.com/assets/colab-badge.svg\" alt=\"Open In Colab\"/></a>"
      ]
    },
    {
      "cell_type": "code",
      "metadata": {
        "id": "Rb5XHZ-NMXDu",
        "colab_type": "code",
        "colab": {}
      },
      "source": [
        "# import dependencies\n",
        "from keras.activations import relu, softmax\n",
        "from keras.datasets import mnist\n",
        "from keras.models import Sequential\n",
        "from keras.layers import Dense\n",
        "from keras.losses import categorical_crossentropy\n",
        "from keras.optimizers import SGD\n",
        "from keras.utils import np_utils\n",
        "\n",
        "import matplotlib.pyplot as plt\n",
        "\n",
        "import numpy as np"
      ],
      "execution_count": 0,
      "outputs": []
    },
    {
      "cell_type": "code",
      "metadata": {
        "id": "HCw-SQ5vMbeQ",
        "colab_type": "code",
        "colab": {
          "base_uri": "https://localhost:8080/",
          "height": 51
        },
        "outputId": "0bef9340-612f-41e6-9768-9bc5240a8e8f"
      },
      "source": [
        "# load data\n",
        "(X_train, y_train), (X_test, y_test) = mnist.load_data()"
      ],
      "execution_count": 11,
      "outputs": [
        {
          "output_type": "stream",
          "text": [
            "Downloading data from https://s3.amazonaws.com/img-datasets/mnist.npz\n",
            "11493376/11490434 [==============================] - 1s 0us/step\n"
          ],
          "name": "stdout"
        }
      ]
    },
    {
      "cell_type": "code",
      "metadata": {
        "id": "eYZI1vf2Mdcx",
        "colab_type": "code",
        "colab": {}
      },
      "source": [
        "# defining hyper-parameters\n",
        "num_layers = 2\n",
        "num_neurons = []\n",
        "num_neurons_per_layer = 256\n",
        "learnning_rate = 0.01\n",
        "num_epochs = 50\n",
        "batch_size = 100\n",
        "num_outputs = 10  # 0-9 digits\n",
        "num_inputs = 28 * 28  # total pixels per image\n",
        "for i in range(num_layers):\n",
        "    num_neurons.append(num_neurons_per_layer)"
      ],
      "execution_count": 0,
      "outputs": []
    },
    {
      "cell_type": "code",
      "metadata": {
        "id": "-RwtrZRUMf2f",
        "colab_type": "code",
        "colab": {
          "base_uri": "https://localhost:8080/",
          "height": 85
        },
        "outputId": "7bbd5fef-6bd7-4a8b-b9b2-9b762aad0f9f"
      },
      "source": [
        "# data processing\n",
        "print(\"Training matrix shape\", X_train.shape)\n",
        "print(\"Testing matrix shape\", X_test.shape)\n",
        "X_train = X_train.reshape(len(X_train), num_inputs)\n",
        "X_test = X_test.reshape(len(X_test), num_inputs)\n",
        "X_train = X_train.astype('float32')\n",
        "X_test = X_test.astype('float32')\n",
        "X_train /= 255\n",
        "X_test /= 255\n",
        "print(\"Training matrix shape\", X_train.shape)\n",
        "print(\"Testing matrix shape\", X_test.shape)"
      ],
      "execution_count": 13,
      "outputs": [
        {
          "output_type": "stream",
          "text": [
            "Training matrix shape (60000, 28, 28)\n",
            "Testing matrix shape (10000, 28, 28)\n",
            "Training matrix shape (60000, 784)\n",
            "Testing matrix shape (10000, 784)\n"
          ],
          "name": "stdout"
        }
      ]
    },
    {
      "cell_type": "markdown",
      "metadata": {
        "id": "LdNCvlMNMmy9",
        "colab_type": "text"
      },
      "source": [
        "Modify the target matrices to be in the one-hot format, i.e.\n",
        "\n",
        "0 -> [1, 0, 0, 0, 0, 0, 0, 0, 0]\n",
        "\n",
        "1 -> [0, 1, 0, 0, 0, 0, 0, 0, 0]\n",
        "\n",
        "2 -> [0, 0, 1, 0, 0, 0, 0, 0, 0]\n",
        "\n",
        "etc."
      ]
    },
    {
      "cell_type": "code",
      "metadata": {
        "id": "nT8oZt_CMmap",
        "colab_type": "code",
        "colab": {}
      },
      "source": [
        "Y_train = np_utils.to_categorical(y_train, num_outputs)\n",
        "Y_test = np_utils.to_categorical(y_test, num_outputs)"
      ],
      "execution_count": 0,
      "outputs": []
    },
    {
      "cell_type": "code",
      "metadata": {
        "id": "eaFDT-sfMikg",
        "colab_type": "code",
        "colab": {}
      },
      "source": [
        "# create model\n",
        "model = Sequential(name='digits')\n",
        "model.add(Dense(units=num_neurons[0], activation=relu, input_shape=(num_inputs,)))\n",
        "model.add(Dense(units=num_neurons[1], activation=relu))\n",
        "model.add(Dense(units=num_outputs, activation=softmax))"
      ],
      "execution_count": 0,
      "outputs": []
    },
    {
      "cell_type": "code",
      "metadata": {
        "id": "t0NahXXLM1Xs",
        "colab_type": "code",
        "colab": {
          "base_uri": "https://localhost:8080/",
          "height": 255
        },
        "outputId": "23d0298e-b8ad-4bec-ebb1-cba93eb2064c"
      },
      "source": [
        "# model's summary\n",
        "model.summary()"
      ],
      "execution_count": 16,
      "outputs": [
        {
          "output_type": "stream",
          "text": [
            "Model: \"digits\"\n",
            "_________________________________________________________________\n",
            "Layer (type)                 Output Shape              Param #   \n",
            "=================================================================\n",
            "dense_4 (Dense)              (None, 256)               200960    \n",
            "_________________________________________________________________\n",
            "dense_5 (Dense)              (None, 256)               65792     \n",
            "_________________________________________________________________\n",
            "dense_6 (Dense)              (None, 10)                2570      \n",
            "=================================================================\n",
            "Total params: 269,322\n",
            "Trainable params: 269,322\n",
            "Non-trainable params: 0\n",
            "_________________________________________________________________\n"
          ],
          "name": "stdout"
        }
      ]
    },
    {
      "cell_type": "code",
      "metadata": {
        "id": "y59CaXLQM2_l",
        "colab_type": "code",
        "colab": {}
      },
      "source": [
        "# compiling model\n",
        "model.compile(\n",
        "        loss=categorical_crossentropy,\n",
        "        optimizer=SGD(lr=learnning_rate),\n",
        "        metrics=['accuracy'])"
      ],
      "execution_count": 0,
      "outputs": []
    },
    {
      "cell_type": "code",
      "metadata": {
        "id": "vORO-xTRM445",
        "colab_type": "code",
        "colab": {
          "base_uri": "https://localhost:8080/",
          "height": 1000
        },
        "outputId": "7c16099f-50d4-435a-f3bf-0c488ec3a899"
      },
      "source": [
        "# train model\n",
        "model.fit(X_train, Y_train, batch_size=batch_size, epochs=num_epochs)"
      ],
      "execution_count": 18,
      "outputs": [
        {
          "output_type": "stream",
          "text": [
            "WARNING:tensorflow:From /usr/local/lib/python3.6/dist-packages/tensorflow_core/python/ops/math_grad.py:1424: where (from tensorflow.python.ops.array_ops) is deprecated and will be removed in a future version.\n",
            "Instructions for updating:\n",
            "Use tf.where in 2.0, which has the same broadcast rule as np.where\n",
            "WARNING:tensorflow:From /usr/local/lib/python3.6/dist-packages/keras/backend/tensorflow_backend.py:1033: The name tf.assign_add is deprecated. Please use tf.compat.v1.assign_add instead.\n",
            "\n",
            "WARNING:tensorflow:From /usr/local/lib/python3.6/dist-packages/keras/backend/tensorflow_backend.py:1020: The name tf.assign is deprecated. Please use tf.compat.v1.assign instead.\n",
            "\n",
            "WARNING:tensorflow:From /usr/local/lib/python3.6/dist-packages/keras/backend/tensorflow_backend.py:3005: The name tf.Session is deprecated. Please use tf.compat.v1.Session instead.\n",
            "\n",
            "Epoch 1/50\n",
            "WARNING:tensorflow:From /usr/local/lib/python3.6/dist-packages/keras/backend/tensorflow_backend.py:190: The name tf.get_default_session is deprecated. Please use tf.compat.v1.get_default_session instead.\n",
            "\n",
            "WARNING:tensorflow:From /usr/local/lib/python3.6/dist-packages/keras/backend/tensorflow_backend.py:197: The name tf.ConfigProto is deprecated. Please use tf.compat.v1.ConfigProto instead.\n",
            "\n",
            "WARNING:tensorflow:From /usr/local/lib/python3.6/dist-packages/keras/backend/tensorflow_backend.py:207: The name tf.global_variables is deprecated. Please use tf.compat.v1.global_variables instead.\n",
            "\n",
            "WARNING:tensorflow:From /usr/local/lib/python3.6/dist-packages/keras/backend/tensorflow_backend.py:216: The name tf.is_variable_initialized is deprecated. Please use tf.compat.v1.is_variable_initialized instead.\n",
            "\n",
            "WARNING:tensorflow:From /usr/local/lib/python3.6/dist-packages/keras/backend/tensorflow_backend.py:223: The name tf.variables_initializer is deprecated. Please use tf.compat.v1.variables_initializer instead.\n",
            "\n",
            "60000/60000 [==============================] - 5s 78us/step - loss: 1.0101 - acc: 0.7668\n",
            "Epoch 2/50\n",
            "60000/60000 [==============================] - 4s 66us/step - loss: 0.4121 - acc: 0.8884\n",
            "Epoch 3/50\n",
            "60000/60000 [==============================] - 4s 66us/step - loss: 0.3402 - acc: 0.9043\n",
            "Epoch 4/50\n",
            "60000/60000 [==============================] - 4s 64us/step - loss: 0.3044 - acc: 0.9144\n",
            "Epoch 5/50\n",
            "60000/60000 [==============================] - 4s 70us/step - loss: 0.2802 - acc: 0.9206\n",
            "Epoch 6/50\n",
            "60000/60000 [==============================] - 4s 68us/step - loss: 0.2609 - acc: 0.9262\n",
            "Epoch 7/50\n",
            "60000/60000 [==============================] - 4s 64us/step - loss: 0.2445 - acc: 0.9318\n",
            "Epoch 8/50\n",
            "60000/60000 [==============================] - 4s 68us/step - loss: 0.2302 - acc: 0.9354\n",
            "Epoch 9/50\n",
            "60000/60000 [==============================] - 4s 63us/step - loss: 0.2176 - acc: 0.9392\n",
            "Epoch 10/50\n",
            "60000/60000 [==============================] - 4s 63us/step - loss: 0.2062 - acc: 0.9424\n",
            "Epoch 11/50\n",
            "60000/60000 [==============================] - 4s 63us/step - loss: 0.1958 - acc: 0.9446\n",
            "Epoch 12/50\n",
            "60000/60000 [==============================] - 4s 69us/step - loss: 0.1869 - acc: 0.9474\n",
            "Epoch 13/50\n",
            "60000/60000 [==============================] - 4s 64us/step - loss: 0.1783 - acc: 0.9498\n",
            "Epoch 14/50\n",
            "60000/60000 [==============================] - 4s 66us/step - loss: 0.1706 - acc: 0.9519\n",
            "Epoch 15/50\n",
            "60000/60000 [==============================] - 4s 64us/step - loss: 0.1633 - acc: 0.9535\n",
            "Epoch 16/50\n",
            "60000/60000 [==============================] - 4s 65us/step - loss: 0.1567 - acc: 0.9555\n",
            "Epoch 17/50\n",
            "60000/60000 [==============================] - 4s 64us/step - loss: 0.1505 - acc: 0.9578\n",
            "Epoch 18/50\n",
            "60000/60000 [==============================] - 4s 64us/step - loss: 0.1448 - acc: 0.9592\n",
            "Epoch 19/50\n",
            "60000/60000 [==============================] - 4s 64us/step - loss: 0.1394 - acc: 0.9607\n",
            "Epoch 20/50\n",
            "60000/60000 [==============================] - 5s 75us/step - loss: 0.1345 - acc: 0.9621\n",
            "Epoch 21/50\n",
            "60000/60000 [==============================] - 4s 66us/step - loss: 0.1296 - acc: 0.9636\n",
            "Epoch 22/50\n",
            "60000/60000 [==============================] - 4s 62us/step - loss: 0.1252 - acc: 0.9647\n",
            "Epoch 23/50\n",
            "60000/60000 [==============================] - 4s 63us/step - loss: 0.1210 - acc: 0.9657\n",
            "Epoch 24/50\n",
            "60000/60000 [==============================] - 4s 66us/step - loss: 0.1170 - acc: 0.9671\n",
            "Epoch 25/50\n",
            "60000/60000 [==============================] - 4s 64us/step - loss: 0.1133 - acc: 0.9681\n",
            "Epoch 26/50\n",
            "60000/60000 [==============================] - 4s 65us/step - loss: 0.1098 - acc: 0.9691\n",
            "Epoch 27/50\n",
            "60000/60000 [==============================] - 4s 65us/step - loss: 0.1064 - acc: 0.9703\n",
            "Epoch 28/50\n",
            "60000/60000 [==============================] - 4s 70us/step - loss: 0.1032 - acc: 0.9714\n",
            "Epoch 29/50\n",
            "60000/60000 [==============================] - 4s 65us/step - loss: 0.1003 - acc: 0.9721\n",
            "Epoch 30/50\n",
            "60000/60000 [==============================] - 4s 65us/step - loss: 0.0973 - acc: 0.9725\n",
            "Epoch 31/50\n",
            "60000/60000 [==============================] - 4s 65us/step - loss: 0.0945 - acc: 0.9736\n",
            "Epoch 32/50\n",
            "60000/60000 [==============================] - 4s 64us/step - loss: 0.0919 - acc: 0.9743\n",
            "Epoch 33/50\n",
            "60000/60000 [==============================] - 4s 64us/step - loss: 0.0894 - acc: 0.9751\n",
            "Epoch 34/50\n",
            "60000/60000 [==============================] - 4s 64us/step - loss: 0.0871 - acc: 0.9754\n",
            "Epoch 35/50\n",
            "60000/60000 [==============================] - 4s 65us/step - loss: 0.0846 - acc: 0.9765\n",
            "Epoch 36/50\n",
            "60000/60000 [==============================] - 4s 68us/step - loss: 0.0825 - acc: 0.9773\n",
            "Epoch 37/50\n",
            "60000/60000 [==============================] - 4s 64us/step - loss: 0.0805 - acc: 0.9777\n",
            "Epoch 38/50\n",
            "60000/60000 [==============================] - 4s 63us/step - loss: 0.0784 - acc: 0.9785\n",
            "Epoch 39/50\n",
            "60000/60000 [==============================] - 4s 69us/step - loss: 0.0764 - acc: 0.9791\n",
            "Epoch 40/50\n",
            "60000/60000 [==============================] - 4s 64us/step - loss: 0.0747 - acc: 0.9796\n",
            "Epoch 41/50\n",
            "60000/60000 [==============================] - 4s 63us/step - loss: 0.0728 - acc: 0.9802\n",
            "Epoch 42/50\n",
            "60000/60000 [==============================] - 4s 63us/step - loss: 0.0711 - acc: 0.9805\n",
            "Epoch 43/50\n",
            "60000/60000 [==============================] - 4s 68us/step - loss: 0.0694 - acc: 0.9815\n",
            "Epoch 44/50\n",
            "60000/60000 [==============================] - 4s 65us/step - loss: 0.0679 - acc: 0.9816\n",
            "Epoch 45/50\n",
            "60000/60000 [==============================] - 4s 63us/step - loss: 0.0663 - acc: 0.9822\n",
            "Epoch 46/50\n",
            "60000/60000 [==============================] - 4s 62us/step - loss: 0.0649 - acc: 0.9828\n",
            "Epoch 47/50\n",
            "60000/60000 [==============================] - 4s 63us/step - loss: 0.0634 - acc: 0.9830\n",
            "Epoch 48/50\n",
            "60000/60000 [==============================] - 4s 62us/step - loss: 0.0620 - acc: 0.9834\n",
            "Epoch 49/50\n",
            "60000/60000 [==============================] - 4s 62us/step - loss: 0.0606 - acc: 0.9840\n",
            "Epoch 50/50\n",
            "60000/60000 [==============================] - 4s 62us/step - loss: 0.0593 - acc: 0.9842\n"
          ],
          "name": "stdout"
        },
        {
          "output_type": "execute_result",
          "data": {
            "text/plain": [
              "<keras.callbacks.History at 0x7f136263a128>"
            ]
          },
          "metadata": {
            "tags": []
          },
          "execution_count": 18
        }
      ]
    },
    {
      "cell_type": "code",
      "metadata": {
        "id": "nsV4QiVPM6vc",
        "colab_type": "code",
        "colab": {
          "base_uri": "https://localhost:8080/",
          "height": 51
        },
        "outputId": "383e023e-aa0d-4544-e54d-d1100faa7835"
      },
      "source": [
        "# evaluate model\n",
        "score = model.evaluate(X_test, Y_test)\n",
        "print('Test - acurracy', str(score[1]*100)+'%.')"
      ],
      "execution_count": 19,
      "outputs": [
        {
          "output_type": "stream",
          "text": [
            "10000/10000 [==============================] - 0s 41us/step\n",
            "Test - acurracy 97.31%.\n"
          ],
          "name": "stdout"
        }
      ]
    },
    {
      "cell_type": "code",
      "metadata": {
        "id": "NwrdWejMNC66",
        "colab_type": "code",
        "colab": {
          "base_uri": "https://localhost:8080/",
          "height": 545
        },
        "outputId": "4ff3cc9e-529a-4106-b55d-7d6c614c6def"
      },
      "source": [
        "# inspecting output\n",
        "predicted_classes = model.predict_classes(X_test)\n",
        "# verificar cuáles predicciones son correctas y cuáles no\n",
        "correct_indices = np.nonzero(predicted_classes == y_test)[0]\n",
        "incorrect_indices = np.nonzero(predicted_classes != y_test)[0]\n",
        "\n",
        "plt.figure()\n",
        "for i, correct in enumerate(correct_indices[:9]):\n",
        "    plt.subplot(3,3,i+1)\n",
        "    plt.imshow(X_test[correct].reshape(28,28), cmap='gray', interpolation='none')\n",
        "    plt.title(\"Predicted {}, Class {}\".format(predicted_classes[correct], y_test[correct]))\n",
        "\n",
        "plt.figure()\n",
        "for i, incorrect in enumerate(incorrect_indices[:9]):\n",
        "    plt.subplot(3,3,i+1)\n",
        "    plt.imshow(X_test[incorrect].reshape(28,28), cmap='gray', interpolation='none')\n",
        "    plt.title(\"Predicted {}, Class {}\".format(predicted_classes[incorrect], y_test[incorrect]))"
      ],
      "execution_count": 24,
      "outputs": [
        {
          "output_type": "display_data",
          "data": {
            "image/png": "[encoded data removed]",
            "text/plain": [
              "<Figure size 432x288 with 9 Axes>"
            ]
          },
          "metadata": {
            "tags": []
          }
        },
        {
          "output_type": "display_data",
          "data": {
            "image/png": "[encoded data removed]",
            "text/plain": [
              "<Figure size 432x288 with 9 Axes>"
            ]
          },
          "metadata": {
            "tags": []
          }
        }
      ]
    }
  ]
}